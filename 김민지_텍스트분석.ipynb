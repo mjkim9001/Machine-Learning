{
 "cells": [
  {
   "cell_type": "markdown",
   "metadata": {},
   "source": [
    "# 피처 벡터화 변환과 머신러닝 모델 학습/예측/평가"
   ]
  },
  {
   "cell_type": "markdown",
   "metadata": {},
   "source": [
    "## BEST = TF-IDF + Voting(SVC+RF)\n",
    "## 결과값 = 0.675"
   ]
  },
  {
   "cell_type": "code",
   "execution_count": 84,
   "metadata": {},
   "outputs": [
    {
     "data": {
      "text/html": [
       "<div>\n",
       "<style scoped>\n",
       "    .dataframe tbody tr th:only-of-type {\n",
       "        vertical-align: middle;\n",
       "    }\n",
       "\n",
       "    .dataframe tbody tr th {\n",
       "        vertical-align: top;\n",
       "    }\n",
       "\n",
       "    .dataframe thead th {\n",
       "        text-align: right;\n",
       "    }\n",
       "</style>\n",
       "<table border=\"1\" class=\"dataframe\">\n",
       "  <thead>\n",
       "    <tr style=\"text-align: right;\">\n",
       "      <th></th>\n",
       "      <th>0</th>\n",
       "    </tr>\n",
       "  </thead>\n",
       "  <tbody>\n",
       "    <tr>\n",
       "      <th>TF-IDF+Voting(SVC+RF)</th>\n",
       "      <td>0.675119</td>\n",
       "    </tr>\n",
       "    <tr>\n",
       "      <th>Count+DT</th>\n",
       "      <td>0.420738</td>\n",
       "    </tr>\n",
       "    <tr>\n",
       "      <th>tfidf+DT</th>\n",
       "      <td>0.40069</td>\n",
       "    </tr>\n",
       "    <tr>\n",
       "      <th>Count+RF</th>\n",
       "      <td>0.594796</td>\n",
       "    </tr>\n",
       "    <tr>\n",
       "      <th>TF=IDF+RF</th>\n",
       "      <td>0.593999</td>\n",
       "    </tr>\n",
       "    <tr>\n",
       "      <th>TF-IDF+RF(n_estimaters=1000)</th>\n",
       "      <td>0.631439</td>\n",
       "    </tr>\n",
       "    <tr>\n",
       "      <th>TF-IDF+Voting(LR+RF)</th>\n",
       "      <td>0.672199</td>\n",
       "    </tr>\n",
       "    <tr>\n",
       "      <th>TF-IDF+SVC</th>\n",
       "      <td>0.657594</td>\n",
       "    </tr>\n",
       "    <tr>\n",
       "      <th>BEST</th>\n",
       "      <td>TF-IDF+Voting(SVC+RF)</td>\n",
       "    </tr>\n",
       "  </tbody>\n",
       "</table>\n",
       "</div>"
      ],
      "text/plain": [
       "                                                  0\n",
       "TF-IDF+Voting(SVC+RF)                      0.675119\n",
       "Count+DT                                   0.420738\n",
       "tfidf+DT                                    0.40069\n",
       "Count+RF                                   0.594796\n",
       "TF=IDF+RF                                  0.593999\n",
       "TF-IDF+RF(n_estimaters=1000)               0.631439\n",
       "TF-IDF+Voting(LR+RF)                       0.672199\n",
       "TF-IDF+SVC                                 0.657594\n",
       "BEST                          TF-IDF+Voting(SVC+RF)"
      ]
     },
     "execution_count": 84,
     "metadata": {},
     "output_type": "execute_result"
    }
   ],
   "source": [
    "df"
   ]
  },
  {
   "cell_type": "code",
   "execution_count": 2,
   "metadata": {},
   "outputs": [],
   "source": [
    "from sklearn.datasets import fetch_20newsgroups\n",
    "\n",
    "news_data = fetch_20newsgroups(subset='all', random_state=156)"
   ]
  },
  {
   "cell_type": "code",
   "execution_count": 3,
   "metadata": {},
   "outputs": [],
   "source": [
    "train_news=fetch_20newsgroups(subset = 'train', remove = ('headers','footers','quotes'), random_state=156)\n",
    "\n",
    "X_train = train_news.data\n",
    "y_train = train_news.target\n",
    "\n",
    "test_news = fetch_20newsgroups(subset='test', remove =('headers','footers','quotes'), random_state=156)\n",
    "\n",
    "X_test = test_news.data\n",
    "y_test = test_news.target"
   ]
  },
  {
   "cell_type": "code",
   "execution_count": 7,
   "metadata": {},
   "outputs": [],
   "source": [
    "from sklearn.feature_extraction.text import CountVectorizer\n",
    "\n",
    "cnt_vect = CountVectorizer()\n",
    "cnt_vect.fit(X_train)\n",
    "X_train_cnt_vect = cnt_vect.transform(X_train)\n",
    "\n",
    "X_test_cnt_vect = cnt_vect.transform(X_test)"
   ]
  },
  {
   "cell_type": "code",
   "execution_count": 4,
   "metadata": {},
   "outputs": [],
   "source": [
    "from sklearn.feature_extraction.text import TfidfVectorizer\n",
    "\n",
    "tfidf_vect = TfidfVectorizer()\n",
    "tfidf_vect.fit(X_train)\n",
    "X_train_tfidf_vect = tfidf_vect.transform(X_train)\n",
    "X_test_tfidf_vect = tfidf_vect.transform(X_test)"
   ]
  },
  {
   "cell_type": "code",
   "execution_count": 39,
   "metadata": {},
   "outputs": [],
   "source": [
    "name = []\n",
    "result =[]"
   ]
  },
  {
   "cell_type": "markdown",
   "metadata": {},
   "source": [
    "# Count + DT"
   ]
  },
  {
   "cell_type": "code",
   "execution_count": 41,
   "metadata": {},
   "outputs": [
    {
     "name": "stdout",
     "output_type": "stream",
     "text": [
      "CountVectorized DecisionTree 의 예측 정확도는  0.421\n"
     ]
    }
   ],
   "source": [
    "dt_clf = DecisionTreeClassifier()\n",
    "dt_clf.fit(X_train_cnt_vect, y_train)\n",
    "pred = dt_clf.predict(X_test_cnt_vect)\n",
    "print('CountVectorized DecisionTree 의 예측 정확도는 {0: .3f}'.format(accuracy_score(y_test,pred)))\n",
    "name.append('Count+DT')\n",
    "result.append(accuracy_score(y_test,pred))"
   ]
  },
  {
   "cell_type": "markdown",
   "metadata": {},
   "source": [
    "# tfidf + DT"
   ]
  },
  {
   "cell_type": "code",
   "execution_count": 42,
   "metadata": {},
   "outputs": [
    {
     "name": "stdout",
     "output_type": "stream",
     "text": [
      "TF-IDF DecisionTree 의 예측 정확도는  0.401\n"
     ]
    }
   ],
   "source": [
    "from sklearn.tree import DecisionTreeClassifier\n",
    "from sklearn.metrics import accuracy_score\n",
    "\n",
    "dt_clf = DecisionTreeClassifier()\n",
    "dt_clf.fit(X_train_tfidf_vect, y_train)\n",
    "pred = dt_clf.predict(X_test_tfidf_vect)\n",
    "print('TF-IDF DecisionTree 의 예측 정확도는 {0: .3f}'.format(accuracy_score(y_test,pred)))\n",
    "name.append('tfidf+DT')\n",
    "result.append(accuracy_score(y_test,pred))"
   ]
  },
  {
   "cell_type": "markdown",
   "metadata": {},
   "source": [
    "# Count + RF"
   ]
  },
  {
   "cell_type": "code",
   "execution_count": 43,
   "metadata": {},
   "outputs": [
    {
     "name": "stdout",
     "output_type": "stream",
     "text": [
      "CountVectorized RandomForest 의 예측 정확도는  0.595\n"
     ]
    }
   ],
   "source": [
    "from sklearn.ensemble import RandomForestClassifier\n",
    "\n",
    "rf_clf = RandomForestClassifier()\n",
    "rf_clf.fit(X_train_cnt_vect, y_train)\n",
    "pred = rf_clf.predict(X_test_cnt_vect)\n",
    "print('CountVectorized RandomForest 의 예측 정확도는 {0: .3f}'.format(accuracy_score(y_test,pred)))\n",
    "name.append('Count+RF')\n",
    "result.append(accuracy_score(y_test,pred))"
   ]
  },
  {
   "cell_type": "markdown",
   "metadata": {},
   "source": [
    "# TF-IDF + RF"
   ]
  },
  {
   "cell_type": "code",
   "execution_count": 44,
   "metadata": {},
   "outputs": [
    {
     "name": "stdout",
     "output_type": "stream",
     "text": [
      "TF-IDF RandomForest 의 예측 정확도는  0.594\n"
     ]
    }
   ],
   "source": [
    "rf_clf = RandomForestClassifier()\n",
    "rf_clf.fit(X_train_tfidf_vect, y_train)\n",
    "pred = rf_clf.predict(X_test_tfidf_vect)\n",
    "print('TF-IDF RandomForest 의 예측 정확도는 {0: .3f}'.format(accuracy_score(y_test,pred)))\n",
    "name.append('TF=IDF+RF')\n",
    "result.append(accuracy_score(y_test,pred))"
   ]
  },
  {
   "cell_type": "markdown",
   "metadata": {},
   "source": [
    "## - TF-IDF + RF(n_estimators=500 / 1000)"
   ]
  },
  {
   "cell_type": "code",
   "execution_count": 45,
   "metadata": {},
   "outputs": [
    {
     "name": "stdout",
     "output_type": "stream",
     "text": [
      "TF-IDF RandomForest 의 예측 정확도는  0.620\n"
     ]
    }
   ],
   "source": [
    "rf_clf = RandomForestClassifier(n_estimators=500)\n",
    "rf_clf.fit(X_train_tfidf_vect, y_train)\n",
    "pred = rf_clf.predict(X_test_tfidf_vect)\n",
    "print('TF-IDF RandomForest 의 예측 정확도는 {0: .3f}'.format(accuracy_score(y_test,pred)))"
   ]
  },
  {
   "cell_type": "code",
   "execution_count": 46,
   "metadata": {},
   "outputs": [
    {
     "name": "stdout",
     "output_type": "stream",
     "text": [
      "TF-IDF RandomForest 의 예측 정확도는  0.631\n"
     ]
    }
   ],
   "source": [
    "rf_clf = RandomForestClassifier(n_estimators=1000)\n",
    "rf_clf.fit(X_train_tfidf_vect, y_train)\n",
    "pred = rf_clf.predict(X_test_tfidf_vect)\n",
    "print('TF-IDF RandomForest 의 예측 정확도는 {0: .3f}'.format(accuracy_score(y_test,pred)))\n",
    "name.append('TF-IDF+RF(n_estimaters=1000)')\n",
    "result.append(accuracy_score(y_test,pred))"
   ]
  },
  {
   "cell_type": "markdown",
   "metadata": {},
   "source": [
    "# TF-IDF + GBM"
   ]
  },
  {
   "cell_type": "code",
   "execution_count": 19,
   "metadata": {
    "scrolled": true
   },
   "outputs": [
    {
     "name": "stdout",
     "output_type": "stream",
     "text": [
      "      Iter       Train Loss   Remaining Time \n",
      "         1       28027.3596            7.89m\n",
      "         2       26183.1895            7.77m\n",
      "         3       24891.5843            7.67m\n",
      "         4       23920.2378            7.59m\n",
      "         5       23107.6273            7.50m\n",
      "         6       22394.6172            7.42m\n",
      "         7       21772.2657            7.35m\n",
      "         8       21226.3900            7.27m\n",
      "         9       20709.9363            7.19m\n",
      "        10       20249.2132            7.10m\n",
      "        20       17097.3438            6.31m\n",
      "        30       14995.9366            5.52m\n",
      "        40       13426.4880            4.73m\n",
      "        50       12206.8232            3.94m\n",
      "        60       11289.4821            3.15m\n",
      "        70       10491.6363            2.37m\n",
      "        80        9756.8903            1.58m\n",
      "        90        9030.5405           47.27s\n",
      "       100        8414.0737            0.00s\n",
      "TF-IDF GBM 의 예측 정확도는  0.596\n"
     ]
    }
   ],
   "source": [
    "from sklearn.ensemble import GradientBoostingClassifier\n",
    "gb_clf = GradientBoostingClassifier(verbose=1)\n",
    "gb_clf.fit(X_train_tfidf_vect, y_train)\n",
    "pred = gb_clf.predict(X_test_tfidf_vect)\n",
    "print('TF-IDF GBM 의 예측 정확도는 {0: .3f}'.format(accuracy_score(y_test,pred)))\n",
    "name.append('TF-IDF+GBM(n_estimaters=500)')\n",
    "result.append(accuracy_score(y_test,pred))"
   ]
  },
  {
   "cell_type": "markdown",
   "metadata": {},
   "source": [
    "# TF-IDF + Voting"
   ]
  },
  {
   "cell_type": "markdown",
   "metadata": {},
   "source": [
    "## - Voting(LR + RF)"
   ]
  },
  {
   "cell_type": "code",
   "execution_count": 49,
   "metadata": {},
   "outputs": [
    {
     "name": "stdout",
     "output_type": "stream",
     "text": [
      "TF-IDF Voting 의 예측 정확도는  0.672\n"
     ]
    }
   ],
   "source": [
    "from sklearn.ensemble import VotingClassifier\n",
    "from sklearn.linear_model import LogisticRegression\n",
    "from sklearn.neighbors import KNeighborsClassifier\n",
    "\n",
    "lr_clf = LogisticRegression()\n",
    "rf_clf = RandomForestClassifier(n_estimators=1000)\n",
    "vo_clf = VotingClassifier(estimators = [('LR', lr_clf),('RF', rf_clf)], voting='soft')\n",
    "\n",
    "vo_clf.fit(X_train_tfidf_vect, y_train)\n",
    "pred = vo_clf.predict(X_test_tfidf_vect)\n",
    "print('TF-IDF Voting 의 예측 정확도는 {0: .3f}'.format(accuracy_score(y_test,pred)))\n",
    "name.append('TF-IDF+Voting(LR+RF)')\n",
    "result.append(accuracy_score(y_test,pred))"
   ]
  },
  {
   "cell_type": "markdown",
   "metadata": {},
   "source": [
    "## - Voting(SVC + RF)"
   ]
  },
  {
   "cell_type": "code",
   "execution_count": 36,
   "metadata": {},
   "outputs": [
    {
     "name": "stdout",
     "output_type": "stream",
     "text": [
      "TF-IDF Voting 의 예측 정확도는  0.675\n"
     ]
    }
   ],
   "source": [
    "from sklearn.svm import SVC\n",
    "\n",
    "svc = SVC(gamma='auto')\n",
    "clf=SVC(probability=True)\n",
    "rf_clf = RandomForestClassifier(n_estimators=500)\n",
    "vo_clf = VotingClassifier(estimators = [('RF', rf_clf),('SVC', clf)], voting='soft')\n",
    "\n",
    "vo_clf.fit(X_train_tfidf_vect, y_train)\n",
    "pred = vo_clf.predict(X_test_tfidf_vect)\n",
    "print('TF-IDF Voting 의 예측 정확도는 {0: .3f}'.format(accuracy_score(y_test,pred)))"
   ]
  },
  {
   "cell_type": "code",
   "execution_count": 40,
   "metadata": {},
   "outputs": [],
   "source": [
    "name.append('TF-IDF+Voting(SVC+RF)')\n",
    "result.append(accuracy_score(y_test,pred))"
   ]
  },
  {
   "cell_type": "markdown",
   "metadata": {},
   "source": [
    "# TF-IDF + SVC"
   ]
  },
  {
   "cell_type": "code",
   "execution_count": 50,
   "metadata": {
    "scrolled": true
   },
   "outputs": [
    {
     "name": "stdout",
     "output_type": "stream",
     "text": [
      "TF-IDF SVC 의 예측 정확도는  0.658\n"
     ]
    }
   ],
   "source": [
    "from sklearn.svm import SVC\n",
    "\n",
    "svc = SVC()\n",
    "svc.fit(X_train_tfidf_vect, y_train)\n",
    "pred = svc.predict(X_test_tfidf_vect)\n",
    "print('TF-IDF SVC 의 예측 정확도는 {0: .3f}'.format(accuracy_score(y_test,pred)))\n",
    "name.append('TF-IDF+SVC')\n",
    "result.append(accuracy_score(y_test,pred))"
   ]
  },
  {
   "cell_type": "code",
   "execution_count": 60,
   "metadata": {},
   "outputs": [
    {
     "data": {
      "text/html": [
       "<div>\n",
       "<style scoped>\n",
       "    .dataframe tbody tr th:only-of-type {\n",
       "        vertical-align: middle;\n",
       "    }\n",
       "\n",
       "    .dataframe tbody tr th {\n",
       "        vertical-align: top;\n",
       "    }\n",
       "\n",
       "    .dataframe thead th {\n",
       "        text-align: right;\n",
       "    }\n",
       "</style>\n",
       "<table border=\"1\" class=\"dataframe\">\n",
       "  <thead>\n",
       "    <tr style=\"text-align: right;\">\n",
       "      <th></th>\n",
       "      <th>0</th>\n",
       "    </tr>\n",
       "  </thead>\n",
       "  <tbody>\n",
       "    <tr>\n",
       "      <th>TF-IDF+Voting(SVC+RF)</th>\n",
       "      <td>0.675119</td>\n",
       "    </tr>\n",
       "    <tr>\n",
       "      <th>Count+DT</th>\n",
       "      <td>0.420738</td>\n",
       "    </tr>\n",
       "    <tr>\n",
       "      <th>tfidf+DT</th>\n",
       "      <td>0.400690</td>\n",
       "    </tr>\n",
       "    <tr>\n",
       "      <th>Count+RF</th>\n",
       "      <td>0.594796</td>\n",
       "    </tr>\n",
       "    <tr>\n",
       "      <th>TF=IDF+RF</th>\n",
       "      <td>0.593999</td>\n",
       "    </tr>\n",
       "    <tr>\n",
       "      <th>TF-IDF+RF(n_estimaters=1000)</th>\n",
       "      <td>0.631439</td>\n",
       "    </tr>\n",
       "    <tr>\n",
       "      <th>TF-IDF+Voting(LR+RF)</th>\n",
       "      <td>0.672199</td>\n",
       "    </tr>\n",
       "    <tr>\n",
       "      <th>TF-IDF+SVC</th>\n",
       "      <td>0.657594</td>\n",
       "    </tr>\n",
       "  </tbody>\n",
       "</table>\n",
       "</div>"
      ],
      "text/plain": [
       "                                     0\n",
       "TF-IDF+Voting(SVC+RF)         0.675119\n",
       "Count+DT                      0.420738\n",
       "tfidf+DT                      0.400690\n",
       "Count+RF                      0.594796\n",
       "TF=IDF+RF                     0.593999\n",
       "TF-IDF+RF(n_estimaters=1000)  0.631439\n",
       "TF-IDF+Voting(LR+RF)          0.672199\n",
       "TF-IDF+SVC                    0.657594"
      ]
     },
     "execution_count": 60,
     "metadata": {},
     "output_type": "execute_result"
    }
   ],
   "source": [
    "import pandas as pd\n",
    "df = pd.DataFrame(data = result, index = name)"
   ]
  },
  {
   "cell_type": "code",
   "execution_count": 70,
   "metadata": {},
   "outputs": [
    {
     "data": {
      "text/plain": [
       "[0.6751194901752523,\n",
       " 0.4207381837493362,\n",
       " 0.40069038767923526,\n",
       " 0.5947955390334573,\n",
       " 0.5939989378651088,\n",
       " 0.6314391927774827,\n",
       " 0.6721986192246415,\n",
       " 0.6575942644715879]"
      ]
     },
     "execution_count": 70,
     "metadata": {},
     "output_type": "execute_result"
    }
   ],
   "source": [
    "result"
   ]
  },
  {
   "cell_type": "code",
   "execution_count": 80,
   "metadata": {},
   "outputs": [],
   "source": [
    "df.loc[8] = 'TF-IDF+Voting(SVC+RF)'"
   ]
  },
  {
   "cell_type": "code",
   "execution_count": 83,
   "metadata": {},
   "outputs": [],
   "source": [
    "df = df.rename(index={8:'BEST'})"
   ]
  },
  {
   "cell_type": "code",
   "execution_count": null,
   "metadata": {},
   "outputs": [],
   "source": []
  }
 ],
 "metadata": {
  "kernelspec": {
   "display_name": "Python 3",
   "language": "python",
   "name": "python3"
  },
  "language_info": {
   "codemirror_mode": {
    "name": "ipython",
    "version": 3
   },
   "file_extension": ".py",
   "mimetype": "text/x-python",
   "name": "python",
   "nbconvert_exporter": "python",
   "pygments_lexer": "ipython3",
   "version": "3.7.6"
  }
 },
 "nbformat": 4,
 "nbformat_minor": 4
}
